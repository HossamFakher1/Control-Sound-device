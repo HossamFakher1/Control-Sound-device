{
 "cells": [
  {
   "cell_type": "code",
   "execution_count": null,
   "metadata": {},
   "outputs": [],
   "source": [
    "#Sound Volum"
   ]
  },
  {
   "cell_type": "code",
   "execution_count": 1,
   "metadata": {},
   "outputs": [],
   "source": [
    "import numpy as np\n",
    "import cv2\n",
    "import mediapipe as mp\n",
    "import time\n",
    "mp_drawing = mp.solutions.drawing_utils\n",
    "hand = mp.solutions.hands\n",
    "mp_hands = mp.solutions.hands.Hands(False,2,0.7,0.5)\n",
    "\n",
    "cap=cv2.VideoCapture(0)\n",
    "cap.set(3,640)\n",
    "cap.set(4,480)\n",
    "pTime=0\n",
    "\n",
    "from ctypes import cast, POINTER\n",
    "from comtypes import CLSCTX_ALL\n",
    "from pycaw.pycaw import AudioUtilities, IAudioEndpointVolume\n",
    "devices = AudioUtilities.GetSpeakers()\n",
    "interface = devices.Activate(\n",
    "    IAudioEndpointVolume._iid_, CLSCTX_ALL, None)\n",
    "volume = cast(interface, POINTER(IAudioEndpointVolume))\n",
    "volRange=volume.GetVolumeRange()\n",
    "\n",
    "minVol=volRange[0]\n",
    "maxVol=volRange[1]\n",
    "volbar=400\n",
    "while True:\n",
    "    \n",
    "    ret,image=cap.read()\n",
    "    if ret==False :\n",
    "        break\n",
    "    image = cv2.cvtColor(cv2.flip(image, 1), cv2.COLOR_BGR2RGB)\n",
    "    image.flags.writeable = False\n",
    "    results = mp_hands.process(image)\n",
    "    image.flags.writeable = True\n",
    "    rows, cols, _ = image.shape\n",
    "    if results.multi_hand_landmarks:\n",
    "        for hand_landmarks in results.multi_hand_landmarks:\n",
    "            mp_drawing.draw_landmarks( image, hand_landmarks,hand.HAND_CONNECTIONS)\n",
    "            x = [ int(landmark.x * cols) for landmark in hand_landmarks.landmark]\n",
    "            y = [ int(landmark.y * rows) for landmark in hand_landmarks.landmark]\n",
    "            cv2.circle(image,(x[4],y[4]),15,(255,0,0),3,-1)\n",
    "            cv2.circle(image,(x[8],y[8]),15,(255,0,0),3,-1)\n",
    "            cv2.line(image,(x[4],y[4]),(x[8],y[8]),(255,0,0),3)\n",
    "            \n",
    "            length=np.hypot(x[8]-x[4],y[8]-y[4])\n",
    "            vol=np.interp(length,[20,200],[minVol,maxVol])\n",
    "            volbar=np.interp(length,[20,200],[400,150])\n",
    "            volume.SetMasterVolumeLevel(vol, None)\n",
    "            \n",
    "    image = cv2.cvtColor(cv2.flip(image, 1), cv2.COLOR_RGB2BGR)\n",
    "    cv2.rectangle(image,(50,150),(85,400),(0,255,0),3)\n",
    "    cv2.rectangle(image,(50,int(volbar)),(85,400),(0,255,0),cv2.FILLED)\n",
    "    \n",
    "    cTime=time.time()\n",
    "    fps=1/(cTime-pTime)\n",
    "    pTime=cTime\n",
    "    cv2.putText(image,str(int(fps)),(70,50),cv2.FONT_HERSHEY_PLAIN,3,(0,0,255),3)\n",
    "    cv2.imshow('MediaPipe Hands', image)\n",
    "    if cv2.waitKey(5) & 0xFF == 27:\n",
    "      break\n",
    "cap.release()\n",
    "cv2.destroyAllWindows()"
   ]
  },
  {
   "cell_type": "code",
   "execution_count": null,
   "metadata": {},
   "outputs": [],
   "source": []
  }
 ],
 "metadata": {
  "kernelspec": {
   "display_name": "Python 3",
   "language": "python",
   "name": "python3"
  },
  "language_info": {
   "codemirror_mode": {
    "name": "ipython",
    "version": 3
   },
   "file_extension": ".py",
   "mimetype": "text/x-python",
   "name": "python",
   "nbconvert_exporter": "python",
   "pygments_lexer": "ipython3",
   "version": "3.8.5"
  }
 },
 "nbformat": 4,
 "nbformat_minor": 4
}
